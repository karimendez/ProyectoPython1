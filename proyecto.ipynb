{
 "cells": [
  {
   "attachments": {},
   "cell_type": "markdown",
   "metadata": {},
   "source": [
    "## Proyecto 1 de Ciencia de Datos en Python"
   ]
  },
  {
   "attachments": {},
   "cell_type": "markdown",
   "metadata": {},
   "source": [
    "###### Universidad Galileo\n",
    "###### Maestria de Ciencia de Datos\n",
    "###### Ciencia de Datos en Python\n",
    "###### Presentado por: Karina Lissette Díaz\n",
    "###### Carne: 23006413\n"
   ]
  },
  {
   "attachments": {},
   "cell_type": "markdown",
   "metadata": {},
   "source": [
    "### Librerias que se utilizaran en el proyecto"
   ]
  },
  {
   "cell_type": "code",
   "execution_count": 75,
   "metadata": {},
   "outputs": [],
   "source": [
    "import numpy as np \n",
    "import pandas as pd \n",
    "import seaborn as sns\n",
    "import matplotlib.pyplot as plt \n",
    "from sklearn.linear_model import LinearRegression\n"
   ]
  },
  {
   "attachments": {},
   "cell_type": "markdown",
   "metadata": {},
   "source": [
    "### Carga de datos y sets para el proyecto"
   ]
  },
  {
   "cell_type": "code",
   "execution_count": 76,
   "metadata": {},
   "outputs": [
    {
     "name": "stdout",
     "output_type": "stream",
     "text": [
      "Shape:  (1460, 6)\n"
     ]
    }
   ],
   "source": [
    "data = np.load('proyecto_training_data.npy', allow_pickle = False)\n",
    "columnas_nom = np.array(['SalePrice', 'OverallQual', '1stFlrSF', 'TotRmsAbvGrd', 'YearBuilt', 'LotFrontage'])\n",
    "columnas_descri = np.array(['Precio', 'Feedback', 'Metros cuadrados del primer nivel', 'Habitaciones', 'Año de construcción', 'Distancia lineal desde la calle'])\n",
    "shape = data.shape\n",
    "print(\"Shape: \", shape)"
   ]
  },
  {
   "cell_type": "code",
   "execution_count": 77,
   "metadata": {},
   "outputs": [
    {
     "name": "stdout",
     "output_type": "stream",
     "text": [
      "Datos de entrenamiento:  (1168, 6)\n",
      "Datos de validación y prueba:  (292, 6)\n"
     ]
    }
   ],
   "source": [
    "traini=int(shape[0]*0.8)\n",
    "#Datos de entrenamiento del programa\n",
    "data_traini = data[0:traini,:]\n",
    "#Datos de validación y pruebas del programa\n",
    "data_valida= data[traini:shape[0],:]\n",
    "\n",
    "print(\"Datos de entrenamiento: \", data_traini.shape)\n",
    "print(\"Datos de validación y prueba: \", data_valida.shape)"
   ]
  },
  {
   "attachments": {},
   "cell_type": "markdown",
   "metadata": {},
   "source": [
    "### Análisis exploratorio de datos"
   ]
  },
  {
   "attachments": {},
   "cell_type": "markdown",
   "metadata": {},
   "source": [
    "######  Para cada variable en el dataset calcular(usando numpy o pandas): media, valor máximo, valor mínimo, rango y desviación estándar."
   ]
  },
  {
   "cell_type": "code",
   "execution_count": 78,
   "metadata": {},
   "outputs": [],
   "source": [
    "def explorar(k_array):\n",
    "    return k_array.reshape(k_array.shape[0],1)"
   ]
  },
  {
   "attachments": {},
   "cell_type": "markdown",
   "metadata": {},
   "source": [
    "##### Media"
   ]
  },
  {
   "cell_type": "code",
   "execution_count": 79,
   "metadata": {},
   "outputs": [
    {
     "name": "stdout",
     "output_type": "stream",
     "text": [
      "\n",
      "\n",
      "                      Media\n",
      "SalePrice     180921.195890\n",
      "OverallQual        6.099315\n",
      "1stFlrSF        1162.626712\n",
      "TotRmsAbvGrd       6.517808\n",
      "YearBuilt       1971.267808\n",
      "LotFrontage       70.049958\n"
     ]
    }
   ],
   "source": [
    "media = explorar(np.nanmean(data, axis=0))\n",
    "print(\"\\n\")\n",
    "print(pd.DataFrame(media, index=columnas_nom, columns=[\"Media\"]).to_string())\n"
   ]
  },
  {
   "attachments": {},
   "cell_type": "markdown",
   "metadata": {},
   "source": [
    "##### Valor máximo"
   ]
  },
  {
   "cell_type": "code",
   "execution_count": 80,
   "metadata": {},
   "outputs": [
    {
     "name": "stdout",
     "output_type": "stream",
     "text": [
      "\n",
      "\n",
      "              ValorMáximo\n",
      "SalePrice        755000.0\n",
      "OverallQual          10.0\n",
      "1stFlrSF           4692.0\n",
      "TotRmsAbvGrd         14.0\n",
      "YearBuilt          2010.0\n",
      "LotFrontage         313.0\n"
     ]
    }
   ],
   "source": [
    "valormaximo = explorar(np.nanmax(data, axis=0))\n",
    "print(\"\\n\")\n",
    "print(pd.DataFrame(valormaximo, index=columnas_nom, columns=[\"ValorMáximo\"]).to_string())\n"
   ]
  },
  {
   "attachments": {},
   "cell_type": "markdown",
   "metadata": {},
   "source": [
    "##### Valor mínimo"
   ]
  },
  {
   "cell_type": "code",
   "execution_count": 81,
   "metadata": {},
   "outputs": [
    {
     "name": "stdout",
     "output_type": "stream",
     "text": [
      "\n",
      "\n",
      "              ValorMínimo\n",
      "SalePrice         34900.0\n",
      "OverallQual           1.0\n",
      "1stFlrSF            334.0\n",
      "TotRmsAbvGrd          2.0\n",
      "YearBuilt          1872.0\n",
      "LotFrontage          21.0\n"
     ]
    }
   ],
   "source": [
    "valorminimo = explorar(np.nanmin(data, axis=0))\n",
    "print(\"\\n\")\n",
    "print(pd.DataFrame(valorminimo, index=columnas_nom, columns=[\"ValorMínimo\"]).to_string())\n"
   ]
  },
  {
   "attachments": {},
   "cell_type": "markdown",
   "metadata": {},
   "source": [
    "##### Rango"
   ]
  },
  {
   "cell_type": "code",
   "execution_count": 82,
   "metadata": {},
   "outputs": [
    {
     "name": "stdout",
     "output_type": "stream",
     "text": [
      "\n",
      "\n",
      "              RangoPeakToPeak\n",
      "SalePrice            720100.0\n",
      "OverallQual               9.0\n",
      "1stFlrSF               4358.0\n",
      "TotRmsAbvGrd             12.0\n",
      "YearBuilt               138.0\n",
      "LotFrontage               NaN\n",
      "\n",
      "\n",
      "              Rango peak to peak (sin nan)\n",
      "SalePrice                         720100.0\n",
      "OverallQual                            9.0\n",
      "1stFlrSF                            4358.0\n",
      "TotRmsAbvGrd                          12.0\n",
      "YearBuilt                            138.0\n",
      "LotFrontage                          292.0\n"
     ]
    }
   ],
   "source": [
    "rangopeaktopeak = explorar(np.ptp(data, axis=0))\n",
    "print(\"\\n\")\n",
    "print(pd.DataFrame(rangopeaktopeak, index=columnas_nom, columns=[\"RangoPeakToPeak\"]).to_string())\n",
    "col = np.isnan(data[:,5])\n",
    "rangopeaktopeak[5, 0] = np.ptp(data[col==False, 5])\n",
    "print(\"\\n\")\n",
    "print(pd.DataFrame(rangopeaktopeak, index=columnas_nom, columns=[\"Rango peak to peak (sin nan)\"]).to_string())\n"
   ]
  },
  {
   "attachments": {},
   "cell_type": "markdown",
   "metadata": {},
   "source": [
    "#### Desviación estándar"
   ]
  },
  {
   "cell_type": "code",
   "execution_count": 83,
   "metadata": {},
   "outputs": [
    {
     "name": "stdout",
     "output_type": "stream",
     "text": [
      "\n",
      "\n",
      "              DesviaciónEstandar\n",
      "SalePrice           79415.291886\n",
      "OverallQual             1.382523\n",
      "1stFlrSF              386.455322\n",
      "TotRmsAbvGrd            1.624837\n",
      "YearBuilt              30.192559\n",
      "LotFrontage            24.274639\n"
     ]
    }
   ],
   "source": [
    "desviacionEstandar = explorar(np.nanstd(data, axis=0))\n",
    "print(\"\\n\")\n",
    "print(pd.DataFrame(desviacionEstandar, index=columnas_nom, columns=[\"DesviaciónEstandar\"]).to_string())\n"
   ]
  },
  {
   "attachments": {},
   "cell_type": "markdown",
   "metadata": {},
   "source": [
    "### Graficar un histograma para cada variable"
   ]
  },
  {
   "attachments": {},
   "cell_type": "markdown",
   "metadata": {},
   "source": [
    "###### Para cada variable en el dataset usat searborn para graficar un histograma de la variable"
   ]
  }
 ],
 "metadata": {
  "kernelspec": {
   "display_name": "base",
   "language": "python",
   "name": "python3"
  },
  "language_info": {
   "codemirror_mode": {
    "name": "ipython",
    "version": 3
   },
   "file_extension": ".py",
   "mimetype": "text/x-python",
   "name": "python",
   "nbconvert_exporter": "python",
   "pygments_lexer": "ipython3",
   "version": "3.9.13"
  },
  "orig_nbformat": 4
 },
 "nbformat": 4,
 "nbformat_minor": 2
}
